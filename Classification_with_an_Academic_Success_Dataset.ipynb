{
 "cells": [
  {
   "cell_type": "code",
   "execution_count": 1,
   "id": "0d84b60d-30a9-4cad-b3a4-72f45c52f28e",
   "metadata": {},
   "outputs": [],
   "source": [
    "#impprt packages\n",
    "import pandas as pd\n",
    "import numpy as np"
   ]
  },
  {
   "cell_type": "code",
   "execution_count": 4,
   "id": "01ebde7e-aef7-4484-aeef-de8060567fe6",
   "metadata": {},
   "outputs": [],
   "source": [
    "def read_datasets(train_data_path = \"train.csv\", test_data_path = \"test.csv\"):\n",
    "    train = pd.read_csv(train_data_path)\n",
    "    test = pd.read_csv(test_data_path)\n",
    "    return train, test"
   ]
  },
  {
   "cell_type": "code",
   "execution_count": 5,
   "id": "bb7b88bd-d0a5-4ff7-b5d4-e2da2f686773",
   "metadata": {},
   "outputs": [],
   "source": [
    "train,test = read_datasets()"
   ]
  },
  {
   "cell_type": "code",
   "execution_count": 16,
   "id": "92c06e7b-6979-42cb-9218-ad8698150382",
   "metadata": {},
   "outputs": [
    {
     "name": "stdout",
     "output_type": "stream",
     "text": [
      "shape of training data: (76518, 38)\n",
      "shape of test data: (51012, 37)\n",
      "number of columns: 38\n"
     ]
    }
   ],
   "source": [
    "print(\"shape of training data: {}\".format(train.shape))\n",
    "print(\"shape of test data: {}\".format(test.shape))\n",
    "print(\"number of columns: {}\".format(len(train.columns)))"
   ]
  },
  {
   "cell_type": "code",
   "execution_count": null,
   "id": "4d2159ce-679f-4ad0-b05c-38af4221ab0e",
   "metadata": {},
   "outputs": [],
   "source": []
  }
 ],
 "metadata": {
  "kernelspec": {
   "display_name": "Python 3 (ipykernel)",
   "language": "python",
   "name": "python3"
  },
  "language_info": {
   "codemirror_mode": {
    "name": "ipython",
    "version": 3
   },
   "file_extension": ".py",
   "mimetype": "text/x-python",
   "name": "python",
   "nbconvert_exporter": "python",
   "pygments_lexer": "ipython3",
   "version": "3.11.7"
  }
 },
 "nbformat": 4,
 "nbformat_minor": 5
}
